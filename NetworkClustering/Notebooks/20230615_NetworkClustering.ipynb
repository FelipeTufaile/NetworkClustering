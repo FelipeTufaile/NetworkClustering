{
  "nbformat": 4,
  "nbformat_minor": 0,
  "metadata": {
    "colab": {
      "provenance": []
    },
    "kernelspec": {
      "name": "python3",
      "display_name": "Python 3"
    },
    "language_info": {
      "name": "python"
    }
  },
  "cells": [
    {
      "cell_type": "code",
      "execution_count": 26,
      "metadata": {
        "id": "zHCgJKySAVju"
      },
      "outputs": [],
      "source": [
        "import time\n",
        "import sys"
      ]
    },
    {
      "cell_type": "code",
      "source": [
        "def check_connection(clusterA, clusterB):\n",
        "  \"\"\"\n",
        "  This functions receives two lists of elements and returns a boolean (True or False) indicating wether or not the two lists have at leat one element in common.\n",
        "  The function also return a list of unique elements contained in the union of two lists.\n",
        "\n",
        "  Args:\n",
        "      clusterA (list): A list of elements.\n",
        "      clusterB (list): A list of elements.\n",
        "\n",
        "  Returns:\n",
        "      tuple: A tuple holding the a boolean (True or False) indicating wether or not the clusters are connected.\n",
        "  \"\"\"\n",
        "  # Connecting clusters\n",
        "  connection = clusterA + clusterB\n",
        "\n",
        "  # Removing duplicates in the 'connection'\n",
        "  net_connection = list(set(connection))\n",
        "\n",
        "  # Return True if clusterA and clusterB have one element in common and False otherwise\n",
        "  connected_clusters = len(net_connection) < len(connection)\n",
        "\n",
        "  # Return the 'connected_clusters' boolean and the net_connection\n",
        "  return (connected_clusters, net_connection)"
      ],
      "metadata": {
        "id": "qYpzSTMxA0kV"
      },
      "execution_count": 27,
      "outputs": []
    },
    {
      "cell_type": "code",
      "source": [
        "check_connection(clusterA=['Chair', 'Table'], clusterB=['Penci', 'Eraser'])"
      ],
      "metadata": {
        "colab": {
          "base_uri": "https://localhost:8080/"
        },
        "id": "EzFbjnlHEItl",
        "outputId": "030ac17e-332b-4681-e855-4dfc38b57e7d"
      },
      "execution_count": 28,
      "outputs": [
        {
          "output_type": "execute_result",
          "data": {
            "text/plain": [
              "(False, ['Table', 'Chair', 'Penci', 'Eraser'])"
            ]
          },
          "metadata": {},
          "execution_count": 28
        }
      ]
    },
    {
      "cell_type": "code",
      "source": [
        "check_connection(clusterA=['Chair', 'Table'], clusterB=['Penci', 'Eraser', 'Chair'])"
      ],
      "metadata": {
        "colab": {
          "base_uri": "https://localhost:8080/"
        },
        "id": "wbSbQzyLEWtt",
        "outputId": "6036090f-5056-4226-e68b-0298eed04988"
      },
      "execution_count": 29,
      "outputs": [
        {
          "output_type": "execute_result",
          "data": {
            "text/plain": [
              "(True, ['Table', 'Chair', 'Penci', 'Eraser'])"
            ]
          },
          "metadata": {},
          "execution_count": 29
        }
      ]
    },
    {
      "cell_type": "code",
      "source": [
        "def find_connections(cluster, network):\n",
        "  \"\"\"\n",
        "  This function receives a cluster (list of elements) and a network (list of lists of elements - sub-clusters) and check if there a connection between the\n",
        "  reference cluster and all sub-clusters in the network. The functin then return an updated version of the reference cluster and network along with a boolean\n",
        "  indicating whether or not the network was updated. In the case the network was not updated the boolean will be set to False and the updated versions of the\n",
        "  cluster and network will equal to the original version of these lists.\n",
        "\n",
        "  Args:\n",
        "      cluster (list): A list of elements.\n",
        "      network (list): A list of lists.\n",
        "\n",
        "  Returns:\n",
        "      tuple: A tuple holding the updated reference cluster, the updated network and a boolean (True or False) indicating wether or not there was an update in the network.\n",
        "  \"\"\"\n",
        "  # Defining a list to hold the new work... after removing all sub-clusters connected to the reference cluster\n",
        "  updated_network = []\n",
        "\n",
        "  # Defining a list to hold the updated reference cluster\n",
        "  updated_cluster = cluster.copy()\n",
        "\n",
        "  # Iterating through all network of sub-clusters\n",
        "  for sub_cluster in network:\n",
        "\n",
        "    # Checking connection between the updated_cluster and the sub_cluster\n",
        "    connection, net_cluster = check_connection(clusterA=updated_cluster, clusterB=sub_cluster)\n",
        "\n",
        "    # Updating the 'updated_cluster' in case a connection is verified\n",
        "    if(connection):\n",
        "      updated_cluster = net_cluster\n",
        "\n",
        "    # Returning the sub_cluster instance to the updated_network in case no connection was verified\n",
        "    else:\n",
        "      updated_network.append(sub_cluster)\n",
        "\n",
        "  # Flagging wether or not the network was updated\n",
        "  updated = len(updated_network) < len(network)\n",
        "\n",
        "  # Return the 'updated_cluster', the 'updated_network' and a boolean indicating wether or not the network was updated\n",
        "  return (updated_cluster, updated_network, updated)"
      ],
      "metadata": {
        "id": "vWkVTn4SEas1"
      },
      "execution_count": 30,
      "outputs": []
    },
    {
      "cell_type": "code",
      "source": [
        "find_connections(cluster=['Chair', 'Table'], network=[['Penci', 'Eraser', 'Chair'], ['Stapler', 'Pencil Sharpner']])"
      ],
      "metadata": {
        "colab": {
          "base_uri": "https://localhost:8080/"
        },
        "id": "veGsDdF7IfIw",
        "outputId": "ce9a506e-34df-4b43-dc77-2a515bd8ac8e"
      },
      "execution_count": 31,
      "outputs": [
        {
          "output_type": "execute_result",
          "data": {
            "text/plain": [
              "(['Table', 'Chair', 'Penci', 'Eraser'], [['Stapler', 'Pencil Sharpner']], True)"
            ]
          },
          "metadata": {},
          "execution_count": 31
        }
      ]
    },
    {
      "cell_type": "code",
      "source": [
        "def print_progress(current_time, start_time, n_clusters, n_subclusters, n_network):\n",
        "  \"\"\"\n",
        "  This function receives the current time, the start time (when the network clustering process actually started), the number of clusters found in the network,\n",
        "  as for the current time, the number of remaining sub-clusters in the network and the original size of the network. The function then prints a log of the\n",
        "  status of the clustering process.\n",
        "\n",
        "  Args:\n",
        "      current_time (datetime): A datetime object informing the current date and time.\n",
        "      start_time (datetime): A datetime object informing the date and time when the clustering process actually started.\n",
        "      n_clusters (int): An integer indicating the number of clusters formed as for the current_time.\n",
        "      n_subclusters (int): An integer indicating the number of sub-clusters remaining in the network as for the current_time.\n",
        "      n_subclusters (int): An integer indicating the number of sub-clusters remaining in the network as for the current_time.\n",
        "\n",
        "  Returns:\n",
        "      The function prints a log of the status of the clustering process.\n",
        "  \"\"\"\n",
        "  # Calculating the total run time as for the current_time\n",
        "  run_time = current_time - start_time\n",
        "\n",
        "  # Calculating the minutes part of the run_time\n",
        "  run_time_m = int(run_time // 60)\n",
        "\n",
        "  # Calculating the seconds part of the run_time\n",
        "  run_time_s = int(run_time - run_time_m)\n",
        "\n",
        "  # Calculating remaining time\n",
        "  rem_time = run_time*n_subclusters / (n_network - n_subclusters)\n",
        "\n",
        "  # Calculating the minutes part of the rem_time\n",
        "  rem_time_m = int(rem_time // 60)\n",
        "\n",
        "  # Calculating the seconds part of the rem_time\n",
        "  rem_time_s = int(rem_time - rem_time_m)\n",
        "\n",
        "  # Creating response string\n",
        "  response = \"Run time: {} min {} s | Remaining time: {} min {} s | Clusters found: {} | Remaining sub-clusters: {} | Total sub-clusters: {}\"\n",
        "\n",
        "  # Plot status\n",
        "  sys.stdout.write('\\r')\n",
        "  sys.stdout.write(response.format(run_time_m, run_time_s, rem_time_m, rem_time_s, n_clusters, n_subclusters, n_network))\n",
        "  sys.stdout.flush()"
      ],
      "metadata": {
        "id": "YT1CIlWGN9Z7"
      },
      "execution_count": 57,
      "outputs": []
    },
    {
      "cell_type": "code",
      "source": [
        "class NetworkClustering:\n",
        "  \"\"\"\n",
        "  This class receives a network of sub-cluster and regroup these cluster based on commun elements (relationships) between clusters.\n",
        "  Ex.:\n",
        "    input_network = [['Person 1', 'Person 2'], ['Person 3', 'Person 4'], ['Person 1', 'Person 5', 'Person 6']]\n",
        "    output_network = [['Person 1', 'Person 2', 'Person 5', 'Person 6'], ['Person 3', 'Person 4']]\n",
        "\n",
        "  Args:\n",
        "      input_network (list): A list of clusters (lists) representing the orginal un-clustered network.\n",
        "\n",
        "  Returns:\n",
        "      output_network (list): A list of clusters (lists) representing the clustered network.\n",
        "  \"\"\"\n",
        "\n",
        "  def __init__(self, network):\n",
        "    \"\"\"\n",
        "    Initializes the NetworkClustering class by attaching a network to the class.\n",
        "\n",
        "    Args:\n",
        "        input_network (list): A list of clusters (lists) representing the orginal un-clustered network.\n",
        "\n",
        "    \"\"\"\n",
        "    # Defining a mutable network variable\n",
        "    self.input_network = network\n",
        "\n",
        "    # Initializing clusters list\n",
        "    self.output_network = []\n",
        "\n",
        "\n",
        "  def run_clustering(self, ):\n",
        "    \"\"\"\n",
        "    Runs the clustering process and returns an updated (clustered) version of the input_ntework.\n",
        "\n",
        "    Returns:\n",
        "        output_network (list):  A list of clusters (lists) representing the clustered network.\n",
        "\n",
        "    \"\"\"\n",
        "    # Creating an alias variable network from the given network\n",
        "    # This alias will change along the clustering process as new groups are formed\n",
        "    network = self.input_network.copy()\n",
        "\n",
        "    # Setting start time\n",
        "    start_time = time.time()\n",
        "\n",
        "    # Run until there is a valid link in network\n",
        "    while(len(network) > 1):\n",
        "\n",
        "      # Initializing update and group variables\n",
        "      updated, cluster = True, network[0]\n",
        "\n",
        "      # Run while there is no update or it is the first run\n",
        "      while (updated):\n",
        "\n",
        "        # Clustering sub-clusters\n",
        "        cluster, network, updated = find_connections(cluster=cluster, network=network)\n",
        "\n",
        "      # Add the new cluster to the clusters list\n",
        "      self.output_network.append(cluster)\n",
        "\n",
        "      # Printing progress\n",
        "      print_progress(current_time=time.time(), start_time=start_time, n_clusters=len(self.output_network), n_subclusters=len(network), n_network=len(self.input_network))\n",
        "\n",
        "    # Add any remaining sub-cluster in the network as an individual cluster of clusters\n",
        "    if(len(network) == 1):\n",
        "\n",
        "      # Add the new cluster to the clusters list\n",
        "      self.output_network.append(network[0])\n",
        "\n",
        "      # Updating the network alias\n",
        "      network = []\n",
        "\n",
        "      # Printing progress\n",
        "      print_progress(current_time=time.time(), start_time=start_time, n_clusters=len(self.output_network), n_subclusters=len(network), n_network=len(self.input_network))\n",
        "\n",
        "    else:\n",
        "      pass\n",
        "\n",
        "    # Return the object\n",
        "    return self"
      ],
      "metadata": {
        "id": "c0XvRZnQAWdI"
      },
      "execution_count": 65,
      "outputs": []
    },
    {
      "cell_type": "markdown",
      "source": [
        "# Sample case"
      ],
      "metadata": {
        "id": "pshxtPOASgaI"
      }
    },
    {
      "cell_type": "code",
      "source": [
        "# Defining a input network\n",
        "input_network = [\n",
        "    ['Person 01', 'Person 02', 'Client id 1A', 'Client id 2A', 'Company AA'],                 # sub-cluster 1\n",
        "    ['Person 03', 'Client id 3B', 'Company BB'],                                              # sub-cluster 2\n",
        "    ['Person 04', 'Person 05', 'Client id 4C', 'Client id 5C', 'Company CC'],                 # sub-cluster 3\n",
        "    ['Person 06', 'Person 03', 'Client id 6D', 'Client id 3D', 'Company DD'],                 # sub-cluster 4\n",
        "    ['Person 07', 'Client id 7E', 'Company EE'],                                              # sub-cluster 5\n",
        "    ['Person 08', 'Client id 8E', 'Company EE'],                                              # sub-cluster 6\n",
        "    ['Person 09', 'Client id 9E', 'Company EE'],                                              # sub-cluster 7\n",
        "]"
      ],
      "metadata": {
        "id": "LrKT9MRKScPG"
      },
      "execution_count": 72,
      "outputs": []
    },
    {
      "cell_type": "code",
      "source": [
        "# Defining a network clustering object\n",
        "cn = NetworkClustering(network=input_network)"
      ],
      "metadata": {
        "id": "gQ7eFWvEUK8R"
      },
      "execution_count": 73,
      "outputs": []
    },
    {
      "cell_type": "code",
      "source": [
        "# Visualizing the input network\n",
        "cn.input_network"
      ],
      "metadata": {
        "colab": {
          "base_uri": "https://localhost:8080/"
        },
        "id": "M2xP5sdfUgIq",
        "outputId": "f54e000e-3fb4-466d-861a-34845f901075"
      },
      "execution_count": 74,
      "outputs": [
        {
          "output_type": "execute_result",
          "data": {
            "text/plain": [
              "[['Person 01', 'Person 02', 'Client id 1A', 'Client id 2A', 'Company AA'],\n",
              " ['Person 03', 'Client id 3B', 'Company BB'],\n",
              " ['Person 04', 'Person 05', 'Client id 4C', 'Client id 5C', 'Company CC'],\n",
              " ['Person 06', 'Person 03', 'Client id 6D', 'Client id 3D', 'Company DD'],\n",
              " ['Person 07', 'Client id 7E', 'Company EE'],\n",
              " ['Person 08', 'Client id 8E', 'Company EE'],\n",
              " ['Person 09', 'Client id 9E', 'Company EE']]"
            ]
          },
          "metadata": {},
          "execution_count": 74
        }
      ]
    },
    {
      "cell_type": "code",
      "source": [
        "# Visualizing the output network\n",
        "cn.output_network"
      ],
      "metadata": {
        "colab": {
          "base_uri": "https://localhost:8080/"
        },
        "id": "ijJYbgOaUmac",
        "outputId": "559be325-b624-437d-c5e7-47f164c02b84"
      },
      "execution_count": 75,
      "outputs": [
        {
          "output_type": "execute_result",
          "data": {
            "text/plain": [
              "[]"
            ]
          },
          "metadata": {},
          "execution_count": 75
        }
      ]
    },
    {
      "cell_type": "code",
      "source": [
        "# Running clustering\n",
        "cn_run = cn.run_clustering()"
      ],
      "metadata": {
        "colab": {
          "base_uri": "https://localhost:8080/"
        },
        "id": "rOzZ_z-cVAH5",
        "outputId": "5385fb7b-59dc-4f45-bdd6-5007e8148b72"
      },
      "execution_count": 76,
      "outputs": [
        {
          "output_type": "stream",
          "name": "stdout",
          "text": [
            "Run time: 0 min 0 s | Remaining time: 0 min 0 s | Clusters found: 4 | Remaining sub-clusters: 0 | Total sub-clusters: 7"
          ]
        }
      ]
    },
    {
      "cell_type": "code",
      "source": [
        "# Visualizing the output network\n",
        "cn.output_network"
      ],
      "metadata": {
        "colab": {
          "base_uri": "https://localhost:8080/"
        },
        "id": "z6S1gYhfVFVI",
        "outputId": "53c84d69-93ab-4774-9d8d-b256949affc7"
      },
      "execution_count": 77,
      "outputs": [
        {
          "output_type": "execute_result",
          "data": {
            "text/plain": [
              "[['Person 02', 'Client id 2A', 'Company AA', 'Person 01', 'Client id 1A'],\n",
              " ['Company DD',\n",
              "  'Client id 3D',\n",
              "  'Person 06',\n",
              "  'Company BB',\n",
              "  'Client id 3B',\n",
              "  'Client id 6D',\n",
              "  'Person 03'],\n",
              " ['Company CC', 'Person 04', 'Client id 4C', 'Person 05', 'Client id 5C'],\n",
              " ['Company EE',\n",
              "  'Person 09',\n",
              "  'Client id 8E',\n",
              "  'Client id 9E',\n",
              "  'Client id 7E',\n",
              "  'Person 07',\n",
              "  'Person 08']]"
            ]
          },
          "metadata": {},
          "execution_count": 77
        }
      ]
    },
    {
      "cell_type": "code",
      "source": [],
      "metadata": {
        "id": "JDS6L5YJVedI"
      },
      "execution_count": null,
      "outputs": []
    }
  ]
}